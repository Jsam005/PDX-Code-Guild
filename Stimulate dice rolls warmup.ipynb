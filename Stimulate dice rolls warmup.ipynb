{
 "cells": [
  {
   "cell_type": "code",
   "execution_count": null,
   "metadata": {
    "collapsed": true
   },
   "outputs": [],
   "source": [
    "# Stimulate two dice rolls and display the sum to the user\n",
    "import random\n",
    "\n",
    "def sum():\n",
    "    roll_1 = random.randint(1,6)\n",
    "    roll_2 = random.randint(1,6)\n",
    "    return roll_1 + roll_2\n",
    "\n",
    "def main():\n",
    "    \n",
    "\n",
    "main()   "
   ]
  }
 ],
 "metadata": {
  "kernelspec": {
   "display_name": "Python 3",
   "language": "python",
   "name": "python3"
  },
  "language_info": {
   "codemirror_mode": {
    "name": "ipython",
    "version": 3
   },
   "file_extension": ".py",
   "mimetype": "text/x-python",
   "name": "python",
   "nbconvert_exporter": "python",
   "pygments_lexer": "ipython3",
   "version": "3.6.0"
  }
 },
 "nbformat": 4,
 "nbformat_minor": 2
}
