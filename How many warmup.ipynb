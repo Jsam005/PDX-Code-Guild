{
 "cells": [
  {
   "cell_type": "code",
   "execution_count": null,
   "metadata": {
    "collapsed": true
   },
   "outputs": [],
   "source": [
    "'''\n",
    ">>> num_list = [1,1,1,1,1,1]\n",
    ">>> how_many(num_list,1)\n",
    "6\n",
    ">>> second_num_list = [1,4,3,7,7,8,9]\n",
    ">>> how_many(second_num_list,7)\n",
    "2\n",
    ">>> how_many(second_num_list,20)\n",
    "0\n",
    "'''\n",
    "\n",
    "\n",
    "def how_many(num_list,number):\n",
    "    \n",
    "    count_how_many = 0\n",
    "    \n",
    "    for i in num_list:\n",
    "        if num_list == number:\n",
    "            count_how_many += 1\n",
    "            return count_how_many\n"
   ]
  }
 ],
 "metadata": {
  "kernelspec": {
   "display_name": "Python 3",
   "language": "python",
   "name": "python3"
  },
  "language_info": {
   "codemirror_mode": {
    "name": "ipython",
    "version": 3
   },
   "file_extension": ".py",
   "mimetype": "text/x-python",
   "name": "python",
   "nbconvert_exporter": "python",
   "pygments_lexer": "ipython3",
   "version": "3.6.0"
  }
 },
 "nbformat": 4,
 "nbformat_minor": 2
}
