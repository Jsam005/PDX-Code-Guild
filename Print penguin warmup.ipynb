{
 "cells": [
  {
   "cell_type": "code",
   "execution_count": null,
   "metadata": {
    "collapsed": true
   },
   "outputs": [],
   "source": [
    "'''\n",
    "\n",
    "Write the following function called print_numbers that has one integer input parameter called number and print the numbers \n",
    "from 1 up until number except if the number is even and divisible by 3 print \"Penguin\" instead\n",
    "\n",
    "Example \n",
    ">>> print_numbers(13)\n",
    "1 2 3 4 5 \"Penguin\" 7 8 9 10 11 \"Penguin\" 13\n",
    ">>> print_numbers(4)\n",
    "1 2 3 4\n",
    "\n",
    "When your finished push to the warmup folder on you git-hub repository \n",
    "\n",
    "'''\n",
    "\n",
    "def print_numbers(number):\n",
    "    \n",
    "    for num in range(1,number +1):\n",
    "        if num % 2 == 0 and num % 3 == 0:\n",
    "            print(\"Penguin\")\n",
    "        else:\n",
    "            print(num)\n",
    "            \n",
    "print_numbers(15)"
   ]
  }
 ],
 "metadata": {
  "kernelspec": {
   "display_name": "Python 3",
   "language": "python",
   "name": "python3"
  },
  "language_info": {
   "codemirror_mode": {
    "name": "ipython",
    "version": 3
   },
   "file_extension": ".py",
   "mimetype": "text/x-python",
   "name": "python",
   "nbconvert_exporter": "python",
   "pygments_lexer": "ipython3",
   "version": "3.6.0"
  }
 },
 "nbformat": 4,
 "nbformat_minor": 2
}
