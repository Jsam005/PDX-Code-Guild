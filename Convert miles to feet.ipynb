{
 "cells": [
  {
   "cell_type": "code",
   "execution_count": null,
   "metadata": {
    "collapsed": true
   },
   "outputs": [],
   "source": [
    "# 1 mile = 5280 feet\n",
    "\n",
    "def convert_miles(num_miles):\n",
    "    return miles * 5280\n",
    "\n",
    "def main():\n",
    "\n",
    "    num_of_miles = float(input(\"Type in number of miles to convert to feet: \"))\n",
    "\n",
    "    print(convert_miles to feet(num_of_miles))\n",
    "\n",
    "main()"
   ]
  }
 ],
 "metadata": {
  "kernelspec": {
   "display_name": "Python 3",
   "language": "python",
   "name": "python3"
  },
  "language_info": {
   "codemirror_mode": {
    "name": "ipython",
    "version": 3
   },
   "file_extension": ".py",
   "mimetype": "text/x-python",
   "name": "python",
   "nbconvert_exporter": "python",
   "pygments_lexer": "ipython3",
   "version": "3.6.0"
  }
 },
 "nbformat": 4,
 "nbformat_minor": 2
}
