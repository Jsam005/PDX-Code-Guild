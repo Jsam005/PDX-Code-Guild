{
 "cells": [
  {
   "cell_type": "code",
   "execution_count": null,
   "metadata": {
    "collapsed": true
   },
   "outputs": [],
   "source": [
    "# looping into the squareroot of a number\n",
    "\n",
    "import math\n",
    "\n",
    "def isPrime(num):\n",
    "    \n",
    "    if num == 2:\n",
    "        return True\n",
    "    elif num % 2 == 0:\n",
    "        return False\n",
    "    \n",
    "    for i in range(3,int(math.sqrt(num)),2):\n",
    "    \n",
    "        if num % i == 0:\n",
    "           \n",
    "            return False\n",
    "    \n",
    "    return True\n",
    "\n",
    "\n",
    "def get_all_primes(number):\n",
    "    \n",
    "    for i in range(2,number):\n",
    "        \n",
    "        if isPrime(i) == True:\n",
    "            print(i)\n",
    "            \n",
    "\n",
    "def main():\n",
    "    # get all the prime numbers out of 100\n",
    "    get_all_primes(100)\n",
    "                  \n",
    "main()"
   ]
  }
 ],
 "metadata": {
  "kernelspec": {
   "display_name": "Python 3",
   "language": "python",
   "name": "python3"
  },
  "language_info": {
   "codemirror_mode": {
    "name": "ipython",
    "version": 3
   },
   "file_extension": ".py",
   "mimetype": "text/x-python",
   "name": "python",
   "nbconvert_exporter": "python",
   "pygments_lexer": "ipython3",
   "version": "3.6.0"
  }
 },
 "nbformat": 4,
 "nbformat_minor": 2
}
