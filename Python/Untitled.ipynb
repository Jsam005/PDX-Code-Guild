{
 "cells": [
  {
   "cell_type": "code",
   "execution_count": null,
   "metadata": {
    "collapsed": true
   },
   "outputs": [],
   "source": [
    "def transfer(self,amount):\n",
    "    self.balance -= amount\n",
    "    transaction_message = \"Transferred {} from Checking\"\n",
    "    self.tranactions.append(transction_message)\n",
    "    \n",
    "def receive_transfer(self,amount):\n",
    "    self.balance += amount\n",
    "    transaction_message = \"Received {} from Checking\"\n",
    "    self.transactions.append()\n",
    "    \n",
    "def transfer(self, isfrom, amount):\n",
    "    \n",
    "    if account isfrom == 'Checking':\n",
    "        self.checking.transfer(amount)\n",
    "        self.savings.receive_transfer(amount)\n",
    "        \n",
    "    else:\n",
    "        self.savings.transfer(amount)\n",
    "        self.checking.receive_transfer(amount)\n",
    "        \n",
    "#self.total_balance = self.checking.balance + self.savings.balance\n",
    "        \n",
    "def __str__(self):\n",
    "    \n",
    "    #mem"
   ]
  }
 ],
 "metadata": {
  "kernelspec": {
   "display_name": "Python 3",
   "language": "python",
   "name": "python3"
  },
  "language_info": {
   "codemirror_mode": {
    "name": "ipython",
    "version": 3
   },
   "file_extension": ".py",
   "mimetype": "text/x-python",
   "name": "python",
   "nbconvert_exporter": "python",
   "pygments_lexer": "ipython3",
   "version": "3.6.0"
  }
 },
 "nbformat": 4,
 "nbformat_minor": 2
}
