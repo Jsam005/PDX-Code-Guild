{
 "cells": [
  {
   "cell_type": "code",
   "execution_count": null,
   "metadata": {
    "collapsed": false
   },
   "outputs": [],
   "source": [
    "#import urllib.request\n",
    "import requests\n",
    "from bs4 import BeautifulSoup # to make the html format more readable\n",
    "\n",
    "# to get the html page\n",
    "'''with urllib.request.urlopen('http://python.org') as response:\n",
    "    html = response.read()\n",
    "    print(html)\n",
    "'''\n",
    "r = requests.get('http://python.org') # saves the whole request as 'r'\n",
    "print(r.text) # r.text represents our html"
   ]
  },
  {
   "cell_type": "code",
   "execution_count": null,
   "metadata": {
    "collapsed": false
   },
   "outputs": [],
   "source": [
    "soup = BeautifulSoup(html,'html.parser')\n"
   ]
  }
 ],
 "metadata": {
  "kernelspec": {
   "display_name": "Python 3",
   "language": "python",
   "name": "python3"
  },
  "language_info": {
   "codemirror_mode": {
    "name": "ipython",
    "version": 3
   },
   "file_extension": ".py",
   "mimetype": "text/x-python",
   "name": "python",
   "nbconvert_exporter": "python",
   "pygments_lexer": "ipython3",
   "version": "3.6.0"
  }
 },
 "nbformat": 4,
 "nbformat_minor": 2
}
