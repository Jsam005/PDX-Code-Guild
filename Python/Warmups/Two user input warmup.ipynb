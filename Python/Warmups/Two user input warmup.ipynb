{
 "cells": [
  {
   "cell_type": "code",
   "execution_count": null,
   "metadata": {
    "collapsed": true
   },
   "outputs": [],
   "source": [
    "# two users, input numbers and print which user entered the highest number\n",
    "\n",
    "user_one = int(input(\"Enter a number user one\"))\n",
    "user_two = int(input(\"Enter a number user two\"))\n",
    "sentence = \"{} had a greater number and that number was {}\"\n",
    "\n",
    "# first case user_one's number is greater\n",
    "if user_one > user_two:\n",
    "    print((sentence.format)(\"User one\", user_one))\n",
    "\n",
    "# second case user_two's number is greater\n",
    "elif user_two > user_one:\n",
    "    \n",
    "    print((sentence.format)(\"User two\", user_two))\n",
    "\n",
    "# third case they are the same\n",
    "else:\n",
    "    \n",
    "    print(\"You entered the same number\")"
   ]
  }
 ],
 "metadata": {
  "kernelspec": {
   "display_name": "Python 3",
   "language": "python",
   "name": "python3"
  },
  "language_info": {
   "codemirror_mode": {
    "name": "ipython",
    "version": 3
   },
   "file_extension": ".py",
   "mimetype": "text/x-python",
   "name": "python",
   "nbconvert_exporter": "python",
   "pygments_lexer": "ipython3",
   "version": "3.6.0"
  }
 },
 "nbformat": 4,
 "nbformat_minor": 2
}
