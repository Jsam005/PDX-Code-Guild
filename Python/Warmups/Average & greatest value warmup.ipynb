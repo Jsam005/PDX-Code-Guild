{
 "cells": [
  {
   "cell_type": "code",
   "execution_count": 3,
   "metadata": {
    "collapsed": false
   },
   "outputs": [
    {
     "name": "stdout",
     "output_type": "stream",
     "text": [
      "The average number is 253.16583416583416\n",
      "The greatest number is 500\n"
     ]
    }
   ],
   "source": [
    "'''\n",
    "Create the following functions:\n",
    "\n",
    "def average(num_list): --> returns the average value of the list\n",
    "pass\n",
    "\n",
    "def greatest(num_list): --> returns the greatest value in the list\n",
    "pass\n",
    "\n",
    "def main():\n",
    "    Create a list of 1000 randomly generate numbers from 1 to 500\n",
    "    Use this list to pass into our two functions above\n",
    "\n",
    "'''\n",
    "import random as r\n",
    "\n",
    "def average(num_list):\n",
    "    return sum(num_list)/len(num_list)\n",
    "\n",
    "def greatest(num_list):\n",
    "    return max(num_list)\n",
    "\n",
    "def main():\n",
    "    nums = []\n",
    "    \n",
    "    for i in range(0,1001):\n",
    "        random_number = r.randint(1,500)\n",
    "        nums.append(random_number)\n",
    "        \n",
    "    print(\"The average number is {}\".format(average(nums)))\n",
    "    print(\"The greatest number is {}\".format(greatest(nums)))\n",
    "    \n",
    "main()\n",
    "    "
   ]
  },
  {
   "cell_type": "code",
   "execution_count": null,
   "metadata": {
    "collapsed": true
   },
   "outputs": [],
   "source": []
  }
 ],
 "metadata": {
  "kernelspec": {
   "display_name": "Python 3",
   "language": "python",
   "name": "python3"
  },
  "language_info": {
   "codemirror_mode": {
    "name": "ipython",
    "version": 3
   },
   "file_extension": ".py",
   "mimetype": "text/x-python",
   "name": "python",
   "nbconvert_exporter": "python",
   "pygments_lexer": "ipython3",
   "version": "3.6.0"
  }
 },
 "nbformat": 4,
 "nbformat_minor": 2
}
