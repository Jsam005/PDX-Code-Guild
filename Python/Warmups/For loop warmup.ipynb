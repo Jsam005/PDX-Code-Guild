{
 "cells": [
  {
   "cell_type": "code",
   "execution_count": null,
   "metadata": {
    "collapsed": true
   },
   "outputs": [],
   "source": [
    "'''\n",
    "\n",
    "Create a function that returns a list of numbers from 1 to 1000 that are divisible by 4\n",
    "\n",
    "'''\n",
    "#can leave input argument blank or add start and end and replace it with the range of numbers\n",
    "\n",
    "def four():\n",
    "    classy = []\n",
    "    \n",
    "    for hi in range(1,1001):\n",
    "        \n",
    "        if hi % 4 == 0:\n",
    "            \n",
    "            #add to our list --> classy\n",
    "            \n",
    "            classy.append(hi)\n",
    "            \n",
    "        return classy\n",
    "    \n",
    "\n",
    "def print_list(my_list):\n",
    "    \n",
    "    for pizza in range(0,len(my_list)):\n",
    "        \n",
    "        print(my_list(pizza))\n",
    "\n",
    "\n",
    "def main():\n",
    "    \n",
    "    numbers = four()\n",
    "    \n",
    "    print_list(numbers)\n",
    "    \n",
    "main()"
   ]
  }
 ],
 "metadata": {
  "kernelspec": {
   "display_name": "Python 3",
   "language": "python",
   "name": "python3"
  },
  "language_info": {
   "codemirror_mode": {
    "name": "ipython",
    "version": 3
   },
   "file_extension": ".py",
   "mimetype": "text/x-python",
   "name": "python",
   "nbconvert_exporter": "python",
   "pygments_lexer": "ipython3",
   "version": "3.6.0"
  }
 },
 "nbformat": 4,
 "nbformat_minor": 2
}
