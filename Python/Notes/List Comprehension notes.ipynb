{
 "cells": [
  {
   "cell_type": "code",
   "execution_count": null,
   "metadata": {
    "collapsed": true
   },
   "outputs": [],
   "source": [
    "# list comprehension allows you to iterate through multiple lists\n",
    "# example to print a list with all 1's\n",
    "\n",
    "numbers = []\n",
    "\n",
    "for i in range(10):\n",
    "    numbers.append(1)\n",
    "\n",
    "# examples for list comprehension\n",
    "\n",
    "num_comp = [data --> 1 for i in range(10)] --> [1,1,1,1,1,1,1,1,1] #prints all 1's\n",
    "\n",
    "num_comp = [data --> i for i in range(10)] --> [0,1,2,3,4,5,6,7,8,9] #prints from 0 to 9\n",
    "\n",
    "# example to double the list\n",
    "\n",
    "num_comp = [i for i in range(1,11)]\n",
    "\n",
    "double_list = [x*2 for x in num_comp] --> [2,4,6,8,10,12,14,16,18,20] #print double the num_comp list\n"
   ]
  }
 ],
 "metadata": {
  "kernelspec": {
   "display_name": "Python 3",
   "language": "python",
   "name": "python3"
  },
  "language_info": {
   "codemirror_mode": {
    "name": "ipython",
    "version": 3
   },
   "file_extension": ".py",
   "mimetype": "text/x-python",
   "name": "python",
   "nbconvert_exporter": "python",
   "pygments_lexer": "ipython3",
   "version": "3.6.0"
  }
 },
 "nbformat": 4,
 "nbformat_minor": 2
}
