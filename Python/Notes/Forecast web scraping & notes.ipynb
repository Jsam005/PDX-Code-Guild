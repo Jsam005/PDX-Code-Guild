{
 "cells": [
  {
   "cell_type": "code",
   "execution_count": 2,
   "metadata": {
    "collapsed": true
   },
   "outputs": [],
   "source": [
    "import requests\n",
    "from bs4 import BeautifulSoup\n",
    "import pandas as pd\n",
    "\n",
    "# to get our request for our html\n",
    "page = requests.get('http://forecast.weather.gov/MapClick.php?lat=45.5234&lon=-122.6762#.WK5FmDsrKUm')\n",
    "\n",
    "soup = BeautifulSoup(page.content, 'html.parser')\n",
    "#print(page) --> gets a success or error response code\n",
    "#print(soup.prettify()) --> prettify is a built-in function that makes it even easier to read\n",
    "#print(soup.find_all('p')[0]) --> returns the list of each paragraph \n"
   ]
  },
  {
   "cell_type": "code",
   "execution_count": 3,
   "metadata": {
    "collapsed": false
   },
   "outputs": [
    {
     "name": "stdout",
     "output_type": "stream",
     "text": [
      "ThisAfternoon\n",
      "Slight ChanceShowers\n",
      "High: 56 °F\n",
      "This Afternoon: A 20 percent chance of showers.  Mostly sunny, with a high near 56. Southwest wind around 10 mph. \n"
     ]
    }
   ],
   "source": [
    "seven_day = soup.find(id='seven-day-forecast')\n",
    "forecast_items = seven_day.find_all(class_ = 'tombstone-container')\n",
    "tonight = forecast_items[0]\n",
    "#print(tonight) --> prints the whole description\n",
    "\n",
    "period = tonight.find(class_ = 'period-name').get_text()\n",
    "short_desc = tonight.find(class_ = 'short-desc').get_text()\n",
    "temp = tonight.find(class_ = 'temp').get_text()\n",
    "img = tonight.find('img')\n",
    "desc = img['title']\n",
    "# above: prints each description separately\n",
    "\n",
    "print(period)\n",
    "print(short_desc)\n",
    "print(temp)\n",
    "print(desc)"
   ]
  },
  {
   "cell_type": "code",
   "execution_count": 5,
   "metadata": {
    "collapsed": false
   },
   "outputs": [],
   "source": [
    "# using list comprehension\n",
    "\n",
    "period_tags = seven_day.select(\".tombstone-container .period-name\")\n",
    "periods = [period.get_text() for period in period_tags]\n",
    "short_descs = [desc.get_text() for desc in seven_day.select(\".tombstone-container .short-desc \")]\n",
    "temps = [temp.get_text() for temp in seven_day.select(\".tombstone-container .temp \")]\n",
    "descs = [description['title'] for description in seven_day.select(\".tombstone-container img \")]"
   ]
  },
  {
   "cell_type": "code",
   "execution_count": 6,
   "metadata": {
    "collapsed": false
   },
   "outputs": [
    {
     "data": {
      "text/html": [
       "<div>\n",
       "<table border=\"1\" class=\"dataframe\">\n",
       "  <thead>\n",
       "    <tr style=\"text-align: right;\">\n",
       "      <th></th>\n",
       "      <th>descs</th>\n",
       "      <th>period</th>\n",
       "      <th>short_desc</th>\n",
       "      <th>temp</th>\n",
       "    </tr>\n",
       "  </thead>\n",
       "  <tbody>\n",
       "    <tr>\n",
       "      <th>0</th>\n",
       "      <td>This Afternoon: A 20 percent chance of showers...</td>\n",
       "      <td>ThisAfternoon</td>\n",
       "      <td>Slight ChanceShowers</td>\n",
       "      <td>High: 56 °F</td>\n",
       "    </tr>\n",
       "    <tr>\n",
       "      <th>1</th>\n",
       "      <td>Tonight: A 30 percent chance of rain after 5am...</td>\n",
       "      <td>Tonight</td>\n",
       "      <td>Partly Cloudythen ChanceRain</td>\n",
       "      <td>Low: 40 °F</td>\n",
       "    </tr>\n",
       "    <tr>\n",
       "      <th>2</th>\n",
       "      <td>Saturday: Rain, mainly after 11am.  High near ...</td>\n",
       "      <td>Saturday</td>\n",
       "      <td>Rain</td>\n",
       "      <td>High: 54 °F</td>\n",
       "    </tr>\n",
       "    <tr>\n",
       "      <th>3</th>\n",
       "      <td>Saturday Night: A chance of showers before 5am...</td>\n",
       "      <td>SaturdayNight</td>\n",
       "      <td>ChanceShowers</td>\n",
       "      <td>Low: 46 °F</td>\n",
       "    </tr>\n",
       "    <tr>\n",
       "      <th>4</th>\n",
       "      <td>Sunday: A 40 percent chance of rain, mainly be...</td>\n",
       "      <td>Sunday</td>\n",
       "      <td>Chance Rain</td>\n",
       "      <td>High: 57 °F</td>\n",
       "    </tr>\n",
       "    <tr>\n",
       "      <th>5</th>\n",
       "      <td>Sunday Night: A 20 percent chance of rain.  Mo...</td>\n",
       "      <td>SundayNight</td>\n",
       "      <td>Slight ChanceRain</td>\n",
       "      <td>Low: 44 °F</td>\n",
       "    </tr>\n",
       "    <tr>\n",
       "      <th>6</th>\n",
       "      <td>Monday: Rain likely.  Cloudy, with a high near...</td>\n",
       "      <td>Monday</td>\n",
       "      <td>Rain Likely</td>\n",
       "      <td>High: 59 °F</td>\n",
       "    </tr>\n",
       "    <tr>\n",
       "      <th>7</th>\n",
       "      <td>Monday Night: Showers likely, mainly before 11...</td>\n",
       "      <td>MondayNight</td>\n",
       "      <td>ShowersLikely</td>\n",
       "      <td>Low: 49 °F</td>\n",
       "    </tr>\n",
       "    <tr>\n",
       "      <th>8</th>\n",
       "      <td>Tuesday: A chance of showers.  Cloudy, with a ...</td>\n",
       "      <td>Tuesday</td>\n",
       "      <td>ChanceShowers</td>\n",
       "      <td>High: 61 °F</td>\n",
       "    </tr>\n",
       "  </tbody>\n",
       "</table>\n",
       "</div>"
      ],
      "text/plain": [
       "                                               descs         period  \\\n",
       "0  This Afternoon: A 20 percent chance of showers...  ThisAfternoon   \n",
       "1  Tonight: A 30 percent chance of rain after 5am...        Tonight   \n",
       "2  Saturday: Rain, mainly after 11am.  High near ...       Saturday   \n",
       "3  Saturday Night: A chance of showers before 5am...  SaturdayNight   \n",
       "4  Sunday: A 40 percent chance of rain, mainly be...         Sunday   \n",
       "5  Sunday Night: A 20 percent chance of rain.  Mo...    SundayNight   \n",
       "6  Monday: Rain likely.  Cloudy, with a high near...         Monday   \n",
       "7  Monday Night: Showers likely, mainly before 11...    MondayNight   \n",
       "8  Tuesday: A chance of showers.  Cloudy, with a ...        Tuesday   \n",
       "\n",
       "                     short_desc         temp  \n",
       "0          Slight ChanceShowers  High: 56 °F  \n",
       "1  Partly Cloudythen ChanceRain   Low: 40 °F  \n",
       "2                          Rain  High: 54 °F  \n",
       "3                 ChanceShowers   Low: 46 °F  \n",
       "4                   Chance Rain  High: 57 °F  \n",
       "5             Slight ChanceRain   Low: 44 °F  \n",
       "6                   Rain Likely  High: 59 °F  \n",
       "7                 ShowersLikely   Low: 49 °F  \n",
       "8                 ChanceShowers  High: 61 °F  "
      ]
     },
     "execution_count": 6,
     "metadata": {},
     "output_type": "execute_result"
    }
   ],
   "source": [
    "# passes the values as a dictionary and returns it as a table\n",
    "weather = pd.DataFrame({\n",
    "    \"period\":periods,\n",
    "    \"short_desc\": short_descs,\n",
    "    \"temp\": temps,\n",
    "    \"descs\": descs\n",
    "})\n",
    "weather"
   ]
  }
 ],
 "metadata": {
  "kernelspec": {
   "display_name": "Python 3",
   "language": "python",
   "name": "python3"
  },
  "language_info": {
   "codemirror_mode": {
    "name": "ipython",
    "version": 3
   },
   "file_extension": ".py",
   "mimetype": "text/x-python",
   "name": "python",
   "nbconvert_exporter": "python",
   "pygments_lexer": "ipython3",
   "version": "3.6.0"
  }
 },
 "nbformat": 4,
 "nbformat_minor": 2
}
