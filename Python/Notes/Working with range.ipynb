{
 "cells": [
  {
   "cell_type": "code",
   "execution_count": null,
   "metadata": {
    "collapsed": true
   },
   "outputs": [],
   "source": [
    "'''\n",
    "The range function takes 2 parameters a and b --> range(a,b) and will give the numbers from up until, but not including b\n",
    "a = inclusive\n",
    "b = exclusive\n",
    "\n",
    "'''\n",
    "\n",
    "for i in range(0,11):\n",
    "    print(i)"
   ]
  },
  {
   "cell_type": "code",
   "execution_count": null,
   "metadata": {
    "collapsed": true
   },
   "outputs": [],
   "source": [
    "animal = 'dog'\n",
    "\n",
    "'''\n",
    "d --> 0 animal[0] --> animal[i] = d --> i = 0\n",
    "o --> 1 animal[1] --> animal[i] = o --> i = 1\n",
    "g --> 2 animal[2] --> animal[i] = g --> i = 2\n",
    "\n",
    "print dog we want range(0,3)\n",
    "\n",
    "len(animal) = 3\n",
    "\n",
    "'''\n",
    "# Use a for loop to iterate over object more easily\n",
    "# loop through our animal word and print each character\n",
    "\n",
    "for i in range(0,len(animal))\n",
    "# print each character\n",
    "    print(animal[i])\n",
    "    \n",
    "'''\n",
    "for i in range(0,3) --> while i < 3\n",
    "\n",
    "'''"
   ]
  },
  {
   "cell_type": "code",
   "execution_count": null,
   "metadata": {
    "collapsed": true
   },
   "outputs": [],
   "source": [
    "word = input(\"Enter your name\")\n",
    "\n",
    "# write a loop to print word\n",
    "for i in range(0,len(word)):\n",
    "    print(word[i])"
   ]
  },
  {
   "cell_type": "code",
   "execution_count": null,
   "metadata": {
    "collapsed": true
   },
   "outputs": [],
   "source": [
    "# write a function that prints any word\n",
    "\n",
    "def print_word(any_word):\n",
    "    for i in any_word:\n",
    "        print(i)\n",
    "\n",
    "print_word(\"Hello\") "
   ]
  },
  {
   "cell_type": "code",
   "execution_count": null,
   "metadata": {
    "collapsed": true
   },
   "outputs": [],
   "source": [
    "# another way to print any word\n",
    "\n",
    "def print_word(any_word):\n",
    "    for i in range(0,len(any_word)):\n",
    "        print(any_word[i])\n",
    "        \n",
    "print_word(\"Hello\")"
   ]
  },
  {
   "cell_type": "code",
   "execution_count": null,
   "metadata": {
    "collapsed": true
   },
   "outputs": [],
   "source": [
    "# if the character is an 'a' skip over it\n",
    "# continue\n",
    "\n",
    "def print_word(a_word):\n",
    "    for i in range(0,len(a_word)):\n",
    "        if a_word[i] == 'a':\n",
    "            continue\n",
    "        else:\n",
    "            print(a_word[i])\n",
    "            \n",
    "print_word(\"apples\")"
   ]
  },
  {
   "cell_type": "code",
   "execution_count": null,
   "metadata": {
    "collapsed": true
   },
   "outputs": [],
   "source": [
    "# if the character is an 'a' skip over it\n",
    "# continue\n",
    "\n",
    "def print_word(a_word):\n",
    "    for i in range(0,len(a_word)):\n",
    "        if a_word[i] == 'a':\n",
    "            continue\n",
    "        else:\n",
    "            print(a_word[i])\n",
    "            \n",
    "print_word(\"apples\")"
   ]
  }
 ],
 "metadata": {
  "kernelspec": {
   "display_name": "Python 3",
   "language": "python",
   "name": "python3"
  },
  "language_info": {
   "codemirror_mode": {
    "name": "ipython",
    "version": 3
   },
   "file_extension": ".py",
   "mimetype": "text/x-python",
   "name": "python",
   "nbconvert_exporter": "python",
   "pygments_lexer": "ipython3",
   "version": "3.6.0"
  }
 },
 "nbformat": 4,
 "nbformat_minor": 2
}
