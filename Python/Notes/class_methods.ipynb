{
 "cells": [
  {
   "cell_type": "code",
   "execution_count": 2,
   "metadata": {
    "collapsed": false
   },
   "outputs": [
    {
     "name": "stdout",
     "output_type": "stream",
     "text": [
      "Employee a has id number 1)\n",
      "Employee b has id number 2)\n",
      "Employee c has id number 3)\n",
      "3\n"
     ]
    }
   ],
   "source": [
    "# allows you to change class variables in the instance of a class\n",
    "\n",
    "class Employee:\n",
    "    \n",
    "    idNum = 0\n",
    "    employee_list = []\n",
    "    \n",
    "    def __init__(self,name):\n",
    "        \n",
    "        self.name = name\n",
    "        \n",
    "        self.id = Employee.create_employee_id()\n",
    "        \n",
    "    #def create_employee_id(self):\n",
    "        \n",
    "    @classmethod\n",
    "    def create_employee_id(cls):\n",
    "        cls.idNum += 1\n",
    "        return cls.idNum\n",
    "        \n",
    "e1 = Employee('a')\n",
    "print(\"Employee {} has id number {})\".format(e1.name, e1.id))\n",
    "\n",
    "e2 = Employee('b')\n",
    "print(\"Employee {} has id number {})\".format(e2.name, e2.id))\n",
    "\n",
    "e3 = Employee('c')\n",
    "print(\"Employee {} has id number {})\".format(e3.name, e3.id))\n",
    "\n",
    "print(Employee.idNum)"
   ]
  },
  {
   "cell_type": "code",
   "execution_count": null,
   "metadata": {
    "collapsed": true
   },
   "outputs": [],
   "source": []
  }
 ],
 "metadata": {
  "kernelspec": {
   "display_name": "Python 3",
   "language": "python",
   "name": "python3"
  },
  "language_info": {
   "codemirror_mode": {
    "name": "ipython",
    "version": 3
   },
   "file_extension": ".py",
   "mimetype": "text/x-python",
   "name": "python",
   "nbconvert_exporter": "python",
   "pygments_lexer": "ipython3",
   "version": "3.6.0"
  }
 },
 "nbformat": 4,
 "nbformat_minor": 2
}
