{
 "cells": [
  {
   "cell_type": "code",
   "execution_count": null,
   "metadata": {
    "collapsed": true
   },
   "outputs": [],
   "source": [
    "matrix = [[1,2,3],[4,5,6],[7,8,9]]\n",
    "one_d_mat = [\"list_one\",\"list_two\",\"list_three\"]\n",
    "\n",
    "sentence = '''\n",
    "{}\n",
    "{}\n",
    "{}\n",
    "'''.format(matrix[0],matrix[1],matrix[2])\n",
    "print(sentence)\n",
    "'''\n",
    "[1, 2, 3] --> list 1 in matrix[0]\n",
    "[4, 5, 6] --> list 2 in matrix[1]\n",
    "[7, 8, 9] --> list 3 in matrix[2]\n",
    "\n",
    "'''\n",
    "\n",
    "print(matrix[0][1])"
   ]
  },
  {
   "cell_type": "code",
   "execution_count": null,
   "metadata": {
    "collapsed": true
   },
   "outputs": [],
   "source": [
    "new_matrix = [[4,5,9,2,3],[2,4,6,2,6],[3,2,67,8,9],[2,3,4,5,6]]\n",
    "\n",
    "for i in range(0,len(new_matrix)):\n",
    "    my_list = new_matrix[i]\n",
    "    for x in range(0,len(my_list)):\n",
    "        print(new_matrix[i][x])"
   ]
  },
  {
   "cell_type": "code",
   "execution_count": null,
   "metadata": {
    "collapsed": true
   },
   "outputs": [],
   "source": [
    "# We want a 3 by 3 matrix of random numbers\n",
    "import random\n",
    "\n",
    "my_matrix = []\n",
    "for i in range(0,3):\n",
    "    temp_list = []\n",
    "    for j in range(0,3):\n",
    "        rand_num = random.randint(1,10)\n",
    "        temp_list.append(rand_num)\n",
    "    my_matrix.append(temp_list)\n",
    "        \n",
    "print(my_matrix)\n",
    "\n",
    "'''\n",
    "[[4, 7, 3], [7, 1, 5], [3, 4, 1]]\n",
    "\n",
    "'''"
   ]
  }
 ],
 "metadata": {
  "kernelspec": {
   "display_name": "Python 3",
   "language": "python",
   "name": "python3"
  },
  "language_info": {
   "codemirror_mode": {
    "name": "ipython",
    "version": 3
   },
   "file_extension": ".py",
   "mimetype": "text/x-python",
   "name": "python",
   "nbconvert_exporter": "python",
   "pygments_lexer": "ipython3",
   "version": "3.6.0"
  }
 },
 "nbformat": 4,
 "nbformat_minor": 2
}
