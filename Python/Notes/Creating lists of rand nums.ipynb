{
 "cells": [
  {
   "cell_type": "code",
   "execution_count": null,
   "metadata": {
    "collapsed": true
   },
   "outputs": [],
   "source": [
    "#Create a list of random numbers from 1 to 10\n",
    "import random\n",
    "    \n",
    "def create_list():\n",
    "    num_list = []\n",
    "    \n",
    "    for i in range(0,100):\n",
    "        random_number = random.randint(1,10)\n",
    "        num_list.append(random_number)\n",
    "        \n",
    "    return num_list\n",
    "\n",
    "print(create_list())"
   ]
  },
  {
   "cell_type": "code",
   "execution_count": 14,
   "metadata": {
    "collapsed": false
   },
   "outputs": [
    {
     "name": "stdout",
     "output_type": "stream",
     "text": [
      "True\n"
     ]
    }
   ],
   "source": [
    "'''\n",
    "Search through the list and returns true if num is contained in num_list. False other wise\n",
    "\n",
    "'''\n",
    "\n",
    "import random\n",
    "    \n",
    "def create_list():\n",
    "    num_list = []\n",
    "    \n",
    "    for i in range(0,100):\n",
    "        random_number = random.randint(1,10)\n",
    "        num_list.append(random_number)\n",
    "        \n",
    "    return num_list\n",
    "\n",
    "def contains(num, num_list):\n",
    "    \n",
    "    for i in range(0,len(num_list)):\n",
    "        value = num_list[i]\n",
    "        if num == value:\n",
    "            return True\n",
    "    \n",
    "    return False\n",
    "\n",
    "def main():\n",
    "    \n",
    "    numbers = create_list()\n",
    "    \n",
    "    print(contains(3,numbers))\n",
    "    \n",
    "main()\n",
    "    "
   ]
  },
  {
   "cell_type": "code",
   "execution_count": 15,
   "metadata": {
    "collapsed": false
   },
   "outputs": [
    {
     "name": "stdout",
     "output_type": "stream",
     "text": [
      "False\n"
     ]
    }
   ],
   "source": [
    "\n",
    "import random\n",
    "    \n",
    "def create_list():\n",
    "    num_list = []\n",
    "    \n",
    "    for i in range(0,100):\n",
    "        random_number = random.randint(1,10)\n",
    "        num_list.append(random_number)\n",
    "        \n",
    "    return num_list\n",
    "\n",
    "def contains(num, num_list):\n",
    "\n",
    "    if num in num_list:\n",
    "        return True\n",
    "    else:\n",
    "        return False\n",
    "    \n",
    "def main():\n",
    "    \n",
    "    numbers = create_list()\n",
    "    \n",
    "    print(contains(12,numbers))\n",
    "\n",
    "main()"
   ]
  },
  {
   "cell_type": "code",
   "execution_count": null,
   "metadata": {
    "collapsed": true
   },
   "outputs": [],
   "source": [
    "# two user inputted numbers and print which user entered the highest number\n",
    "\n",
    "user_one = int(input(\"Enter a number user one\"))\n",
    "user_two = int(input(\"Enter a number user two\"))\n",
    "sentence = \"{} had a greater number and that number was {}\"\n",
    "\n",
    "# first case user_one's number is greater\n",
    "if user_one > user_two:\n",
    "    print((sentence.format)(\"User one\", user_one))\n",
    "\n",
    "# second case user_two's number is greater\n",
    "elif user_two > user_one:\n",
    "    \n",
    "    print((sentence.format)(\"User two\", user_two))\n",
    "\n",
    "    # third they are the same\n",
    "else:\n",
    "    \n",
    "    print(\"You entered the same number\")"
   ]
  }
 ],
 "metadata": {
  "kernelspec": {
   "display_name": "Python 3",
   "language": "python",
   "name": "python3"
  },
  "language_info": {
   "codemirror_mode": {
    "name": "ipython",
    "version": 3
   },
   "file_extension": ".py",
   "mimetype": "text/x-python",
   "name": "python",
   "nbconvert_exporter": "python",
   "pygments_lexer": "ipython3",
   "version": "3.6.0"
  }
 },
 "nbformat": 4,
 "nbformat_minor": 2
}
