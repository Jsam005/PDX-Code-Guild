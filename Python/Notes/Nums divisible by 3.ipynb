{
 "cells": [
  {
   "cell_type": "code",
   "execution_count": null,
   "metadata": {
    "collapsed": true
   },
   "outputs": [],
   "source": [
    "'''\n",
    "    Start = 0, End = len(numbers)\n",
    "    i = 0 --> True:\n",
    "    num = numbers[0] is 0 % 3 False\n",
    "\n",
    "'''\n",
    "\n",
    "numbers = list(range(1,1000))\n",
    "\n",
    "# get all numbers that are divisible by 3\n",
    "for i in range(0,len(numbers)):\n",
    "    num = numbers[i]\n",
    "    \n",
    "    if num % 3 == 0:\n",
    "        \n",
    "        print(num)\n",
    "        "
   ]
  }
 ],
 "metadata": {
  "kernelspec": {
   "display_name": "Python 3",
   "language": "python",
   "name": "python3"
  },
  "language_info": {
   "codemirror_mode": {
    "name": "ipython",
    "version": 3
   },
   "file_extension": ".py",
   "mimetype": "text/x-python",
   "name": "python",
   "nbconvert_exporter": "python",
   "pygments_lexer": "ipython3",
   "version": "3.6.0"
  }
 },
 "nbformat": 4,
 "nbformat_minor": 2
}
