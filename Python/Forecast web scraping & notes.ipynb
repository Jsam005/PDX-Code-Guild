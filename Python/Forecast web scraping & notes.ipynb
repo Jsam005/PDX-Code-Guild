{
 "cells": [
  {
   "cell_type": "code",
   "execution_count": 3,
   "metadata": {
    "collapsed": false
   },
   "outputs": [
    {
     "name": "stdout",
     "output_type": "stream",
     "text": [
      "Tonight\n",
      "ChanceShowers thenAreas Fog\n",
      "Low: 33 °F\n",
      "Tonight: A 50 percent chance of showers before 10pm.  Areas of fog after 1am.  Otherwise, mostly cloudy, with a low around 33. Light and variable wind. \n"
     ]
    }
   ],
   "source": [
    "import requests\n",
    "from bs4 import BeautifulSoup\n",
    "import pandas as pd\n",
    "\n",
    "# to get our request for our html\n",
    "page = requests.get('http://forecast.weather.gov/MapClick.php?lat=45.5234&lon=-122.6762#.WK5FmDsrKUm')\n",
    "\n",
    "soup = BeautifulSoup(page.content, 'html.parser')\n",
    "#print(page) --> gets a success or error response code\n",
    "#print(soup.prettify()) --> prettify is a built-in function that makes it even easier to read\n",
    "#print(soup.find_all('p')[0]) --> returns the list of each paragraph \n",
    "\n",
    "seven_day = soup.find(id='seven-day-forecast')\n",
    "forecast_items = seven_day.find_all(class_ = 'tombstone-container')\n",
    "tonight = forecast_items[0]\n",
    "#print(tonight) --> prints the whole description\n",
    "\n",
    "period = tonight.find(class_ = 'period-name').get_text()\n",
    "short_desc = tonight.find(class_ = 'short-desc').get_text()\n",
    "temp = tonight.find(class_ = 'temp').get_text()\n",
    "img = tonight.find('img')\n",
    "desc = img['title']\n",
    "# above: prints each description separately\n",
    "\n",
    "print(period)\n",
    "print(short_desc)\n",
    "print(temp)\n",
    "print(desc)"
   ]
  },
  {
   "cell_type": "code",
   "execution_count": 4,
   "metadata": {
    "collapsed": false
   },
   "outputs": [
    {
     "name": "stdout",
     "output_type": "stream",
     "text": [
      "['Tonight', 'Thursday', 'ThursdayNight', 'Friday', 'FridayNight', 'Saturday', 'SaturdayNight', 'Sunday', 'SundayNight']\n"
     ]
    }
   ],
   "source": [
    "# using list comprehension\n",
    "\n",
    "period_tags = seven_day.select(\".tombstone-container .period-name\")\n",
    "periods = [period.get_text() for period in period_tags]\n",
    "short_descs = [desc.get_text() for desc in seven_day.select(\".tombstone-container .short-desc\")]\n",
    "temps = [temp.get_text() for temp in seven_day.select(\".tombstone-container .temp \")]\n",
    "descs = [description['title'] for description in seven_day.select(\".tombstone-container img\")]"
   ]
  },
  {
   "cell_type": "code",
   "execution_count": 2,
   "metadata": {
    "collapsed": false
   },
   "outputs": [
    {
     "ename": "NameError",
     "evalue": "name 'pd' is not defined",
     "output_type": "error",
     "traceback": [
      "\u001b[0;31m---------------------------------------------------------------------------\u001b[0m",
      "\u001b[0;31mNameError\u001b[0m                                 Traceback (most recent call last)",
      "\u001b[0;32m<ipython-input-2-5dbd183ae1b8>\u001b[0m in \u001b[0;36m<module>\u001b[0;34m()\u001b[0m\n\u001b[1;32m      1\u001b[0m \u001b[1;31m# passes the values as a dictionary and returns it as a table\u001b[0m\u001b[1;33m\u001b[0m\u001b[1;33m\u001b[0m\u001b[0m\n\u001b[0;32m----> 2\u001b[0;31m weather = pd.DataFrame({\n\u001b[0m\u001b[1;32m      3\u001b[0m     \u001b[1;34m\"period\"\u001b[0m\u001b[1;33m:\u001b[0m\u001b[0mperiods\u001b[0m\u001b[1;33m,\u001b[0m\u001b[1;33m\u001b[0m\u001b[0m\n\u001b[1;32m      4\u001b[0m     \u001b[1;34m\"short_desc\"\u001b[0m\u001b[1;33m:\u001b[0m \u001b[0mshort_descs\u001b[0m\u001b[1;33m,\u001b[0m\u001b[1;33m\u001b[0m\u001b[0m\n\u001b[1;32m      5\u001b[0m     \u001b[1;34m\"temp\"\u001b[0m\u001b[1;33m:\u001b[0m \u001b[0mtemps\u001b[0m\u001b[1;33m,\u001b[0m\u001b[1;33m\u001b[0m\u001b[0m\n",
      "\u001b[0;31mNameError\u001b[0m: name 'pd' is not defined"
     ]
    }
   ],
   "source": [
    "# passes the values as a dictionary and returns it as a table\n",
    "weather = pd.DataFrame({\n",
    "    \"period\":periods,\n",
    "    \"short_desc\": short_descs,\n",
    "    \"temp\": temps,\n",
    "    \"descs\": descs\n",
    "})\n",
    "weather"
   ]
  },
  {
   "cell_type": "code",
   "execution_count": null,
   "metadata": {
    "collapsed": true
   },
   "outputs": [],
   "source": []
  }
 ],
 "metadata": {
  "kernelspec": {
   "display_name": "Python 3",
   "language": "python",
   "name": "python3"
  },
  "language_info": {
   "codemirror_mode": {
    "name": "ipython",
    "version": 3
   },
   "file_extension": ".py",
   "mimetype": "text/x-python",
   "name": "python",
   "nbconvert_exporter": "python",
   "pygments_lexer": "ipython3",
   "version": "3.6.0"
  }
 },
 "nbformat": 4,
 "nbformat_minor": 2
}
