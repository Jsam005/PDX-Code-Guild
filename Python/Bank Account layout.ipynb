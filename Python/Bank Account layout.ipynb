{
 "cells": [
  {
   "cell_type": "code",
   "execution_count": null,
   "metadata": {
    "collapsed": true
   },
   "outputs": [],
   "source": [
    "'''\n",
    "Create a checking account class, in this you should have the following:\n",
    "\n",
    "First name of owner --> Declared in constructor\n",
    "Last name of owner --> Declared in constructor\n",
    "Balance --> Optional argument using *args\n",
    "Transaction history --> []\n",
    "Withdrawal total --> Sum\n",
    "Deposit total --> Sum\n",
    "\n",
    "Functions:\n",
    "\n",
    "deposit --> adds money to your balance and logs the transaction in the form of \"You deposited {} into your account\",\n",
    "update balance and deposit total\n",
    "\n",
    "withdrawal --> takes money out of your balance and logs the transaction in the form of \"You withdrew {} from your account\",\n",
    "update balance and withdrawal total\n",
    "\n",
    "get_transaction_history --> prints the transaction history\n",
    "\n",
    "get_withdrawal_total --> returns the withdrawal total\n",
    "\n",
    "get_deposit_total --> returns the deposit total\n",
    "\n",
    "get_balance --> returns balance\n",
    "\n",
    "Main:\n",
    "\n",
    "Inside of a new main.py file write a function that displays an atm style menu and allows you to continue to make choices until \n",
    "the user decides to quit\n",
    "\n",
    "The menu will look like the following:\n",
    "\n",
    "Hello (first, last name) pick one of the following:\n",
    "\n",
    "1) Deposit money\n",
    "2) Withdraw\n",
    "3) Check balance\n",
    "4) View transactions\n",
    "5) Quit\n",
    "\n",
    "When users decide to quit display the following:\n",
    "\n",
    "Goodbye (first, last name) your total deposits for this session were {deposit total} and your total withdrawal for this session \n",
    "were {withdrawal total} your final balance in you account is {balance}\n",
    "\n",
    "\n",
    "'''\n",
    "\n"
   ]
  }
 ],
 "metadata": {
  "kernelspec": {
   "display_name": "Python 3",
   "language": "python",
   "name": "python3"
  },
  "language_info": {
   "codemirror_mode": {
    "name": "ipython",
    "version": 3
   },
   "file_extension": ".py",
   "mimetype": "text/x-python",
   "name": "python",
   "nbconvert_exporter": "python",
   "pygments_lexer": "ipython3",
   "version": "3.6.0"
  }
 },
 "nbformat": 4,
 "nbformat_minor": 2
}
