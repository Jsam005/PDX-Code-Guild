{
 "cells": [
  {
   "cell_type": "code",
   "execution_count": null,
   "metadata": {
    "collapsed": true
   },
   "outputs": [],
   "source": [
    "'''\n",
    "    If the number is divisible by 3 print \"Fizz\"\n",
    "    If the number is divisible by 5 print \"Buzz\"\n",
    "    If the number is divisible by both 3 and 5 print \"FizzBuzz\"\n",
    "\n",
    "'''\n",
    "\n",
    "for i in range(1,101):\n",
    "    if i % 3 == 0 and i % 5 == 0:\n",
    "        print(\"FizzBuzz\")\n",
    "    \n",
    "    elif i % 5 == 0:\n",
    "        print(\"Buzz\")\n",
    "    \n",
    "    elif i % 3 == 0:\n",
    "        print(\"Fizz\")\n",
    "        \n",
    "    else:\n",
    "        print(i)"
   ]
  }
 ],
 "metadata": {
  "kernelspec": {
   "display_name": "Python 3",
   "language": "python",
   "name": "python3"
  },
  "language_info": {
   "codemirror_mode": {
    "name": "ipython",
    "version": 3
   },
   "file_extension": ".py",
   "mimetype": "text/x-python",
   "name": "python",
   "nbconvert_exporter": "python",
   "pygments_lexer": "ipython3",
   "version": "3.6.0"
  }
 },
 "nbformat": 4,
 "nbformat_minor": 2
}
